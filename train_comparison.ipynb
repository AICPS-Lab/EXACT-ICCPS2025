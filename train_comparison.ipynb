{
 "cells": [
  {
   "cell_type": "code",
   "execution_count": 21,
   "metadata": {},
   "outputs": [],
   "source": [
    "import math\n",
    "import os\n",
    "from methods import Segmenter, TransformerModel, LSTM, CRNN, UNet,CCRNN, UNet2, PatchTST\n",
    "from matplotlib import pyplot as plt\n",
    "import torch\n",
    "from utilities import printc, seed\n",
    "from utils_loader import get_dataloaders\n",
    "from torch.optim.lr_scheduler import ReduceLROnPlateau\n",
    "from tqdm import tqdm\n",
    "from utils_metrics import mean_iou\n",
    "from torch.nn import functional as F\n",
    "\n",
    "config = {\n",
    "        'batch_size': 128,\n",
    "        'epochs':200,\n",
    "        'fsl': False,\n",
    "        'model': 'unet',\n",
    "        'seed': 73054772,\n",
    "        'dataset': 'physiq',\n",
    "        'window_size': 50,\n",
    "        'step_size': 50,\n",
    "    }\n",
    "seed(config['seed'])\n",
    "device = torch.device('cuda' if torch.cuda.is_available() else 'cpu')"
   ]
  },
  {
   "cell_type": "code",
   "execution_count": 22,
   "metadata": {},
   "outputs": [],
   "source": [
    "from sklearn.model_selection import train_test_split\n",
    "from utilities import sliding_windows\n",
    "from utils_dataset import NormalDataset\n",
    "from torch.utils.data import Dataset, DataLoader\n",
    "\n",
    "from utils_loader import _load\n",
    "\n",
    "def sec_sliding(samples, labels, step=50):\n",
    "    # create a sec sliding windows with step 1:\n",
    "    sw2 = sliding_windows(50, step)\n",
    "    # add padding on the samples left and right:\n",
    "    samples = torch.nn.functional.pad(samples.permute(0, 2, 1), (25, 25), \"constant\", 0).permute(0, 2, 1)\n",
    "    labels = torch.nn.functional.pad(labels.unsqueeze(1), (25, 25), \"reflect\").squeeze()\n",
    "    samples, _ = sw2(samples, None)\n",
    "    labels = labels.unfold(1, 50, step)\n",
    "    samples = samples.reshape(-1, 50, 6)\n",
    "    labels = labels.reshape(-1, 50)\n",
    "    return samples, labels\n",
    "\n",
    "def non_fsl_dataloaders_with_sec_sliding(config):\n",
    "    \"\"\"\n",
    "    Get dataloaders for the train, val, test sets for non-FSL\n",
    "\n",
    "    Args:\n",
    "        config (_type_): NA\n",
    "    \"\"\"\n",
    "    inputs, labels = _load(config)\n",
    "    sw = sliding_windows(300, 50)\n",
    "    segmented_samples, segmented_labels = sw(torch.tensor(inputs), torch.tensor(labels))\n",
    "    # Split the dataset into train, val and test:\n",
    "    train_samples, test_samples, train_labels, test_labels = train_test_split(segmented_samples, segmented_labels, test_size=0.2, random_state=42)\n",
    "    train_samples, val_samples, train_labels, val_labels = train_test_split(train_samples, train_labels, test_size=0.2, random_state=42)\n",
    "\n",
    "    train_samples, train_labels = sec_sliding(train_samples, train_labels)\n",
    "    val_samples, val_labels = sec_sliding(val_samples, val_labels)\n",
    "    test_samples, test_labels = sec_sliding(test_samples, test_labels)\n",
    "    print(train_samples.shape, val_samples.shape, test_samples.shape, train_labels.shape, val_labels.shape, test_labels.shape)\n",
    "    train_set = NormalDataset(train_samples, train_labels)\n",
    "    val_set = NormalDataset(val_samples, val_labels)\n",
    "    test_set = NormalDataset(test_samples, test_labels)\n",
    "    train_loader = DataLoader(\n",
    "        train_set,\n",
    "        batch_size=config['batch_size'],\n",
    "        shuffle=True,\n",
    "        num_workers=0,\n",
    "        pin_memory=True,)\n",
    "    val_loader = DataLoader(\n",
    "        val_set,\n",
    "        batch_size=config['batch_size'],\n",
    "        shuffle=True,\n",
    "        num_workers=0,\n",
    "        pin_memory=True,)\n",
    "    test_loader = DataLoader(\n",
    "        test_set,\n",
    "        batch_size=config['batch_size'],\n",
    "        shuffle=True,\n",
    "        num_workers=0,\n",
    "        pin_memory=True,)\n",
    "    return train_loader, val_loader, test_loader"
   ]
  },
  {
   "cell_type": "code",
   "execution_count": 23,
   "metadata": {},
   "outputs": [
    {
     "name": "stdout",
     "output_type": "stream",
     "text": [
      "torch.Size([19397, 50, 6]) torch.Size([4851, 50, 6]) torch.Size([6062, 50, 6]) torch.Size([19397, 50]) torch.Size([4851, 50]) torch.Size([6062, 50])\n"
     ]
    },
    {
     "data": {
      "text/plain": [
       "(152, 38, 48)"
      ]
     },
     "execution_count": 23,
     "metadata": {},
     "output_type": "execute_result"
    }
   ],
   "source": [
    "train_loader, val_loader, test_loader = non_fsl_dataloaders_with_sec_sliding(config)\n",
    "len(train_loader), len(val_loader), len(test_loader)\n"
   ]
  },
  {
   "cell_type": "code",
   "execution_count": 24,
   "metadata": {},
   "outputs": [
    {
     "name": "stdout",
     "output_type": "stream",
     "text": [
      "\u001b[91mNumber of trainable parameters: 650117\u001b[0m\n"
     ]
    },
    {
     "name": "stderr",
     "output_type": "stream",
     "text": [
      " 86%|████████▌ | 172/200 [06:37<01:04,  2.31s/it, loss=0.306, miou=0.876]\n"
     ]
    },
    {
     "ename": "KeyboardInterrupt",
     "evalue": "",
     "output_type": "error",
     "traceback": [
      "\u001b[1;31m---------------------------------------------------------------------------\u001b[0m",
      "\u001b[1;31mKeyboardInterrupt\u001b[0m                         Traceback (most recent call last)",
      "Cell \u001b[1;32mIn[24], line 17\u001b[0m\n\u001b[0;32m     15\u001b[0m \u001b[38;5;28;01mfor\u001b[39;00m epoch \u001b[38;5;129;01min\u001b[39;00m pbar:\n\u001b[0;32m     16\u001b[0m     model\u001b[38;5;241m.\u001b[39mtrain()\n\u001b[1;32m---> 17\u001b[0m     \u001b[38;5;28;01mfor\u001b[39;00m images, labels \u001b[38;5;129;01min\u001b[39;00m train_loader:\n\u001b[0;32m     18\u001b[0m         b, h, c \u001b[38;5;241m=\u001b[39m images\u001b[38;5;241m.\u001b[39mshape\n\u001b[0;32m     19\u001b[0m         \u001b[38;5;66;03m# Forward pass\u001b[39;00m\n",
      "File \u001b[1;32mc:\\Users\\wangh\\anaconda3\\envs\\research\\lib\\site-packages\\torch\\utils\\data\\dataloader.py:631\u001b[0m, in \u001b[0;36m_BaseDataLoaderIter.__next__\u001b[1;34m(self)\u001b[0m\n\u001b[0;32m    628\u001b[0m \u001b[38;5;28;01mif\u001b[39;00m \u001b[38;5;28mself\u001b[39m\u001b[38;5;241m.\u001b[39m_sampler_iter \u001b[38;5;129;01mis\u001b[39;00m \u001b[38;5;28;01mNone\u001b[39;00m:\n\u001b[0;32m    629\u001b[0m     \u001b[38;5;66;03m# TODO(https://github.com/pytorch/pytorch/issues/76750)\u001b[39;00m\n\u001b[0;32m    630\u001b[0m     \u001b[38;5;28mself\u001b[39m\u001b[38;5;241m.\u001b[39m_reset()  \u001b[38;5;66;03m# type: ignore[call-arg]\u001b[39;00m\n\u001b[1;32m--> 631\u001b[0m data \u001b[38;5;241m=\u001b[39m \u001b[38;5;28;43mself\u001b[39;49m\u001b[38;5;241;43m.\u001b[39;49m\u001b[43m_next_data\u001b[49m\u001b[43m(\u001b[49m\u001b[43m)\u001b[49m\n\u001b[0;32m    632\u001b[0m \u001b[38;5;28mself\u001b[39m\u001b[38;5;241m.\u001b[39m_num_yielded \u001b[38;5;241m+\u001b[39m\u001b[38;5;241m=\u001b[39m \u001b[38;5;241m1\u001b[39m\n\u001b[0;32m    633\u001b[0m \u001b[38;5;28;01mif\u001b[39;00m \u001b[38;5;28mself\u001b[39m\u001b[38;5;241m.\u001b[39m_dataset_kind \u001b[38;5;241m==\u001b[39m _DatasetKind\u001b[38;5;241m.\u001b[39mIterable \u001b[38;5;129;01mand\u001b[39;00m \\\n\u001b[0;32m    634\u001b[0m         \u001b[38;5;28mself\u001b[39m\u001b[38;5;241m.\u001b[39m_IterableDataset_len_called \u001b[38;5;129;01mis\u001b[39;00m \u001b[38;5;129;01mnot\u001b[39;00m \u001b[38;5;28;01mNone\u001b[39;00m \u001b[38;5;129;01mand\u001b[39;00m \\\n\u001b[0;32m    635\u001b[0m         \u001b[38;5;28mself\u001b[39m\u001b[38;5;241m.\u001b[39m_num_yielded \u001b[38;5;241m>\u001b[39m \u001b[38;5;28mself\u001b[39m\u001b[38;5;241m.\u001b[39m_IterableDataset_len_called:\n",
      "File \u001b[1;32mc:\\Users\\wangh\\anaconda3\\envs\\research\\lib\\site-packages\\torch\\utils\\data\\dataloader.py:677\u001b[0m, in \u001b[0;36m_SingleProcessDataLoaderIter._next_data\u001b[1;34m(self)\u001b[0m\n\u001b[0;32m    675\u001b[0m data \u001b[38;5;241m=\u001b[39m \u001b[38;5;28mself\u001b[39m\u001b[38;5;241m.\u001b[39m_dataset_fetcher\u001b[38;5;241m.\u001b[39mfetch(index)  \u001b[38;5;66;03m# may raise StopIteration\u001b[39;00m\n\u001b[0;32m    676\u001b[0m \u001b[38;5;28;01mif\u001b[39;00m \u001b[38;5;28mself\u001b[39m\u001b[38;5;241m.\u001b[39m_pin_memory:\n\u001b[1;32m--> 677\u001b[0m     data \u001b[38;5;241m=\u001b[39m \u001b[43m_utils\u001b[49m\u001b[38;5;241;43m.\u001b[39;49m\u001b[43mpin_memory\u001b[49m\u001b[38;5;241;43m.\u001b[39;49m\u001b[43mpin_memory\u001b[49m\u001b[43m(\u001b[49m\u001b[43mdata\u001b[49m\u001b[43m,\u001b[49m\u001b[43m \u001b[49m\u001b[38;5;28;43mself\u001b[39;49m\u001b[38;5;241;43m.\u001b[39;49m\u001b[43m_pin_memory_device\u001b[49m\u001b[43m)\u001b[49m\n\u001b[0;32m    678\u001b[0m \u001b[38;5;28;01mreturn\u001b[39;00m data\n",
      "File \u001b[1;32mc:\\Users\\wangh\\anaconda3\\envs\\research\\lib\\site-packages\\torch\\utils\\data\\_utils\\pin_memory.py:72\u001b[0m, in \u001b[0;36mpin_memory\u001b[1;34m(data, device)\u001b[0m\n\u001b[0;32m     70\u001b[0m \u001b[38;5;28;01melif\u001b[39;00m \u001b[38;5;28misinstance\u001b[39m(data, collections\u001b[38;5;241m.\u001b[39mabc\u001b[38;5;241m.\u001b[39mSequence):\n\u001b[0;32m     71\u001b[0m     \u001b[38;5;28;01mtry\u001b[39;00m:\n\u001b[1;32m---> 72\u001b[0m         \u001b[38;5;28;01mreturn\u001b[39;00m \u001b[38;5;28mtype\u001b[39m(data)([pin_memory(sample, device) \u001b[38;5;28;01mfor\u001b[39;00m sample \u001b[38;5;129;01min\u001b[39;00m data])  \u001b[38;5;66;03m# type: ignore[call-arg]\u001b[39;00m\n\u001b[0;32m     73\u001b[0m     \u001b[38;5;28;01mexcept\u001b[39;00m \u001b[38;5;167;01mTypeError\u001b[39;00m:\n\u001b[0;32m     74\u001b[0m         \u001b[38;5;66;03m# The sequence type may not support `__init__(iterable)` (e.g., `range`).\u001b[39;00m\n\u001b[0;32m     75\u001b[0m         \u001b[38;5;28;01mreturn\u001b[39;00m [pin_memory(sample, device) \u001b[38;5;28;01mfor\u001b[39;00m sample \u001b[38;5;129;01min\u001b[39;00m data]\n",
      "File \u001b[1;32mc:\\Users\\wangh\\anaconda3\\envs\\research\\lib\\site-packages\\torch\\utils\\data\\_utils\\pin_memory.py:72\u001b[0m, in \u001b[0;36m<listcomp>\u001b[1;34m(.0)\u001b[0m\n\u001b[0;32m     70\u001b[0m \u001b[38;5;28;01melif\u001b[39;00m \u001b[38;5;28misinstance\u001b[39m(data, collections\u001b[38;5;241m.\u001b[39mabc\u001b[38;5;241m.\u001b[39mSequence):\n\u001b[0;32m     71\u001b[0m     \u001b[38;5;28;01mtry\u001b[39;00m:\n\u001b[1;32m---> 72\u001b[0m         \u001b[38;5;28;01mreturn\u001b[39;00m \u001b[38;5;28mtype\u001b[39m(data)([\u001b[43mpin_memory\u001b[49m\u001b[43m(\u001b[49m\u001b[43msample\u001b[49m\u001b[43m,\u001b[49m\u001b[43m \u001b[49m\u001b[43mdevice\u001b[49m\u001b[43m)\u001b[49m \u001b[38;5;28;01mfor\u001b[39;00m sample \u001b[38;5;129;01min\u001b[39;00m data])  \u001b[38;5;66;03m# type: ignore[call-arg]\u001b[39;00m\n\u001b[0;32m     73\u001b[0m     \u001b[38;5;28;01mexcept\u001b[39;00m \u001b[38;5;167;01mTypeError\u001b[39;00m:\n\u001b[0;32m     74\u001b[0m         \u001b[38;5;66;03m# The sequence type may not support `__init__(iterable)` (e.g., `range`).\u001b[39;00m\n\u001b[0;32m     75\u001b[0m         \u001b[38;5;28;01mreturn\u001b[39;00m [pin_memory(sample, device) \u001b[38;5;28;01mfor\u001b[39;00m sample \u001b[38;5;129;01min\u001b[39;00m data]\n",
      "File \u001b[1;32mc:\\Users\\wangh\\anaconda3\\envs\\research\\lib\\site-packages\\torch\\utils\\data\\_utils\\pin_memory.py:57\u001b[0m, in \u001b[0;36mpin_memory\u001b[1;34m(data, device)\u001b[0m\n\u001b[0;32m     55\u001b[0m \u001b[38;5;28;01mdef\u001b[39;00m \u001b[38;5;21mpin_memory\u001b[39m(data, device\u001b[38;5;241m=\u001b[39m\u001b[38;5;28;01mNone\u001b[39;00m):\n\u001b[0;32m     56\u001b[0m     \u001b[38;5;28;01mif\u001b[39;00m \u001b[38;5;28misinstance\u001b[39m(data, torch\u001b[38;5;241m.\u001b[39mTensor):\n\u001b[1;32m---> 57\u001b[0m         \u001b[38;5;28;01mreturn\u001b[39;00m \u001b[43mdata\u001b[49m\u001b[38;5;241;43m.\u001b[39;49m\u001b[43mpin_memory\u001b[49m\u001b[43m(\u001b[49m\u001b[43mdevice\u001b[49m\u001b[43m)\u001b[49m\n\u001b[0;32m     58\u001b[0m     \u001b[38;5;28;01melif\u001b[39;00m \u001b[38;5;28misinstance\u001b[39m(data, (\u001b[38;5;28mstr\u001b[39m, \u001b[38;5;28mbytes\u001b[39m)):\n\u001b[0;32m     59\u001b[0m         \u001b[38;5;28;01mreturn\u001b[39;00m data\n",
      "\u001b[1;31mKeyboardInterrupt\u001b[0m: "
     ]
    }
   ],
   "source": [
    "from train import get_model\n",
    "\n",
    "model = get_model(config).float().to(device)\n",
    "# model = UNet(in_channels=6, out_channels=5).float().to(device)\n",
    "optimizer = torch.optim.Adam(model.parameters(), lr=1e-3)\n",
    "# scheduler = ReduceLROnPlateau(optimizer, mode='min', factor=0.1, patience=10, verbose=True, threshold=0.0001, threshold_mode='rel', cooldown=0, min_lr=0, eps=1e-08)\n",
    "# print number of trainable parameters:\n",
    "printc('Number of trainable parameters:', sum(p.numel() for p in model.parameters() if p.requires_grad))\n",
    "\n",
    "criterion = torch.nn.CrossEntropyLoss()\n",
    "\n",
    "best_loss = math.inf\n",
    "counter_i = 0\n",
    "pbar = tqdm(range(config['epochs']), postfix={'loss': 0.0, 'miou': 0.0})\n",
    "for epoch in pbar:\n",
    "    model.train()\n",
    "    for images, labels in train_loader:\n",
    "        b, h, c = images.shape\n",
    "        # Forward pass\n",
    "        images = images.float().to(device)\n",
    "        labels = labels.to(device)\n",
    "        outputs = model(images)\n",
    "        outputs = outputs.permute(0, 2, 1)\n",
    "        # probs = F.softmax(outputs, dim=1)\n",
    "        loss= criterion(outputs, labels.long())\n",
    "        # Backward and optimize\n",
    "        optimizer.zero_grad()\n",
    "        loss.backward()\n",
    "        torch.nn.utils.clip_grad_norm_(model.parameters(), 1., norm_type=2)\n",
    "        optimizer.step()\n",
    "        # scheduler.step(loss)\n",
    "        # train loss and accuracy check:\n",
    "        # if counter_i % 1000 == 0 and counter_i != 0:\n",
    "        #     print('Epoch [{}/{}], Loss: {:.4f}'.format(epoch+1, config['epochs'], loss.item()))\n",
    "    val_losses = []\n",
    "    mean_ious = []\n",
    "    model.eval()\n",
    "    for images, labels in val_loader:\n",
    "        images = images.float().to(device)\n",
    "        labels = labels.to(device)\n",
    "        outputs = model(images)\n",
    "        outputs = outputs.permute(0, 2, 1)\n",
    "        loss = criterion(outputs, labels.long())\n",
    "        val_losses.append(loss.item())\n",
    "        mean_ious.append(mean_iou(model.forward_pred(images), labels.long(),num_classes=5))\n",
    "    val_loss = sum(val_losses) / len(val_losses)\n",
    "    miou = sum(mean_ious) / len(mean_ious)\n",
    "    # print(f'Epoch [{epoch+1}/{config[\"epochs\"]}], Val Loss: {val_loss}, Mean IoU: {miou}')\n",
    "    pbar.set_postfix({'loss': val_loss, 'miou': miou.item()})\n",
    "    if val_loss < best_loss:\n",
    "        best_loss = val_loss\n",
    "        torch.save(model.state_dict(), f'./saved_model/opportunity_{config[\"model\"]}_sec_sliding.pth')\n",
    "    # visualize the predictions:\n",
    "    # plt.plot(images[0, :].cpu().detach().numpy(), color='black')\n",
    "    # plt.plot(model.forward_pred(images)[0, :].cpu().detach().numpy(), label='Prediction')\n",
    "    # plt.plot(labels[0, :].cpu().detach().numpy(), label='Ground Truth')\n",
    "    # plt.legend()\n",
    "    # plt.show()\n",
    "    counter_i += 1\n",
    "# Test the model\n",
    "model.eval()"
   ]
  },
  {
   "cell_type": "code",
   "execution_count": null,
   "metadata": {},
   "outputs": [],
   "source": []
  }
 ],
 "metadata": {
  "kernelspec": {
   "display_name": "research",
   "language": "python",
   "name": "python3"
  },
  "language_info": {
   "codemirror_mode": {
    "name": "ipython",
    "version": 3
   },
   "file_extension": ".py",
   "mimetype": "text/x-python",
   "name": "python",
   "nbconvert_exporter": "python",
   "pygments_lexer": "ipython3",
   "version": "3.9.18"
  }
 },
 "nbformat": 4,
 "nbformat_minor": 2
}
