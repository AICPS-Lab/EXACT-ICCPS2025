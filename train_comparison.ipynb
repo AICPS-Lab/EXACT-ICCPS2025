{
 "cells": [
  {
   "cell_type": "code",
   "execution_count": 1,
   "metadata": {},
   "outputs": [],
   "source": [
    "import math\n",
    "import os\n",
    "from methods import Segmenter, TransformerModel, LSTM, CRNN, UNet,CCRNN, UNet2, PatchTST\n",
    "from matplotlib import pyplot as plt\n",
    "import torch\n",
    "from utilities import printc, seed\n",
    "from utils_loader import get_dataloaders\n",
    "from torch.optim.lr_scheduler import ReduceLROnPlateau\n",
    "from tqdm import tqdm\n",
    "from utils_metrics import mean_iou\n",
    "from torch.nn import functional as F\n",
    "\n",
    "config = {\n",
    "        'batch_size': 128,\n",
    "        'epochs':200,\n",
    "        'fsl': False,\n",
    "        'model': 'unet',\n",
    "        'seed': 73054772,\n",
    "        'dataset': 'physiq',\n",
    "        'window_size': 50,\n",
    "        'step_size': 50,\n",
    "    }\n",
    "seed(config['seed'])\n",
    "device = torch.device('cuda' if torch.cuda.is_available() else 'cpu')"
   ]
  },
  {
   "cell_type": "code",
   "execution_count": 2,
   "metadata": {},
   "outputs": [],
   "source": [
    "from sklearn.model_selection import train_test_split\n",
    "from utilities import sliding_windows\n",
    "from utils_dataset import ClassificationDataset, NormalDataset\n",
    "from torch.utils.data import Dataset, DataLoader\n",
    "from torch.utils.data import SubsetRandomSampler\n",
    "from utils_loader import _load\n",
    "\n",
    "\n",
    "\n",
    "def sec_sliding(samples, labels, step=1, test=False):\n",
    "    # create a sec sliding windows with step 1:\n",
    "    sw2 = sliding_windows(50, step)\n",
    "    # add padding on the samples left and right:\n",
    "    samples = torch.nn.functional.pad(samples.permute(0, 2, 1), (25, 24), \"constant\", 0).permute(0, 2, 1)\n",
    "    labels = torch.nn.functional.pad(labels.unsqueeze(1), (25, 24), \"reflect\").squeeze()\n",
    "    samples, _ = sw2(samples, None)\n",
    "    labels = labels.unfold(1, 50, step)\n",
    "    if test:\n",
    "        return samples, labels\n",
    "    samples = samples.reshape(-1, 50, 6)\n",
    "    labels = labels.reshape(-1, 50)\n",
    "    return samples, labels\n",
    "\n",
    "def non_fsl_dataloaders_with_sec_sliding(config):\n",
    "    \"\"\"\n",
    "    Get dataloaders for the train, val, test sets for non-FSL\n",
    "\n",
    "    Args:\n",
    "        config (_type_): NA\n",
    "    \"\"\"\n",
    "    inputs, labels = _load(config)\n",
    "    sw = sliding_windows(300, 50)\n",
    "    segmented_samples, segmented_labels = sw(torch.tensor(inputs), torch.tensor(labels))\n",
    "    # Split the dataset into train, val and test:\n",
    "    train_samples, test_samples, train_labels, test_labels = train_test_split(segmented_samples, segmented_labels, test_size=0.2, random_state=42)\n",
    "    train_samples, val_samples, train_labels, val_labels = train_test_split(train_samples, train_labels, test_size=0.2, random_state=42)\n",
    "\n",
    "    train_samples, train_labels = sec_sliding(train_samples, train_labels)\n",
    "    val_samples, val_labels = sec_sliding(val_samples, val_labels)\n",
    "    \n",
    "    train_set = ClassificationDataset(train_samples, train_labels)\n",
    "    val_set = ClassificationDataset(val_samples, val_labels)\n",
    "    test_set = NormalDataset(test_samples, test_labels)\n",
    "    temp_loader = DataLoader(train_set, batch_size=config['batch_size'], shuffle=True)\n",
    "    printc(\"Train batch size if no sampler: \", len(temp_loader))\n",
    "    # subsample the dataset:\n",
    "    train_sampler = SubsetRandomSampler(list(range(0, len(train_set), 100)))\n",
    "    # val:\n",
    "    val_sampler = SubsetRandomSampler(list(range(0, len(val_set), 100)))\n",
    "    \n",
    "    train_loader = DataLoader(\n",
    "        train_set,\n",
    "        batch_size=config['batch_size'],\n",
    "        # shuffle=True,\n",
    "        num_workers=0,\n",
    "        pin_memory=True,\n",
    "        sampler=train_sampler\n",
    "        )\n",
    "    val_loader = DataLoader(\n",
    "        val_set,\n",
    "        batch_size=config['batch_size'],\n",
    "        # shuffle=True,\n",
    "        num_workers=0,\n",
    "        pin_memory=True,\n",
    "        sampler=val_sampler\n",
    "        )\n",
    "    test_loader = DataLoader(\n",
    "        test_set,\n",
    "        batch_size=config['batch_size'],\n",
    "        # shuffle=True,\n",
    "        num_workers=0,\n",
    "        pin_memory=True,\n",
    "        )\n",
    "    return train_loader, val_loader, test_loader"
   ]
  },
  {
   "cell_type": "code",
   "execution_count": 3,
   "metadata": {},
   "outputs": [
    {
     "name": "stdout",
     "output_type": "stream",
     "text": [
      "\u001b[91mTrain batch size if no sampler:  6495\u001b[0m\n"
     ]
    },
    {
     "data": {
      "text/plain": [
       "(65, 17, 7)"
      ]
     },
     "execution_count": 3,
     "metadata": {},
     "output_type": "execute_result"
    }
   ],
   "source": [
    "train_loader, val_loader, test_loader = non_fsl_dataloaders_with_sec_sliding(config)\n",
    "len(train_loader), len(val_loader), len(test_loader)\n"
   ]
  },
  {
   "cell_type": "code",
   "execution_count": 4,
   "metadata": {},
   "outputs": [
    {
     "name": "stdout",
     "output_type": "stream",
     "text": [
      "\u001b[91mNumber of trainable parameters: 606961\u001b[0m\n"
     ]
    },
    {
     "name": "stderr",
     "output_type": "stream",
     "text": [
      "100%|██████████| 200/200 [01:24<00:00,  2.38it/s, loss=1.23, acc=0.889] \n"
     ]
    },
    {
     "data": {
      "text/plain": [
       "UNet_encoder(\n",
       "  (final_conv): Linear(in_features=356, out_features=5, bias=True)\n",
       "  (backbone): Sequential(\n",
       "    (0): ConvBlock(\n",
       "      (conv1): Conv1d(6, 64, kernel_size=(3,), stride=(1,), padding=(1,))\n",
       "      (conv2): Conv1d(64, 64, kernel_size=(3,), stride=(1,), padding=(1,))\n",
       "      (relu): ReLU(inplace=True)\n",
       "    )\n",
       "    (1): MaxPool1d(kernel_size=2, stride=2, padding=0, dilation=1, ceil_mode=False)\n",
       "    (2): ConvBlock(\n",
       "      (conv1): Conv1d(64, 128, kernel_size=(3,), stride=(1,), padding=(1,))\n",
       "      (conv2): Conv1d(128, 128, kernel_size=(3,), stride=(1,), padding=(1,))\n",
       "      (relu): ReLU(inplace=True)\n",
       "    )\n",
       "    (3): MaxPool1d(kernel_size=2, stride=2, padding=0, dilation=1, ceil_mode=False)\n",
       "    (4): ConvBlock(\n",
       "      (conv1): Conv1d(128, 356, kernel_size=(3,), stride=(1,), padding=(1,))\n",
       "      (conv2): Conv1d(356, 356, kernel_size=(3,), stride=(1,), padding=(1,))\n",
       "      (relu): ReLU(inplace=True)\n",
       "    )\n",
       "    (5): MaxPool1d(kernel_size=2, stride=2, padding=0, dilation=1, ceil_mode=False)\n",
       "  )\n",
       ")"
      ]
     },
     "execution_count": 4,
     "metadata": {},
     "output_type": "execute_result"
    }
   ],
   "source": [
    "from methods.unet import UNet_encoder\n",
    "from train import get_model\n",
    "\n",
    "model = UNet_encoder(in_channels=6, out_channels=5, cnn_embed_dims=[64, 128, 356]).float().to(device)\n",
    "# model = UNet(in_channels=6, out_channels=5).float().to(device)\n",
    "optimizer = torch.optim.Adam(model.parameters(), lr=1e-3)\n",
    "# scheduler = ReduceLROnPlateau(optimizer, mode='min', factor=0.1, patience=10, verbose=True, threshold=0.0001, threshold_mode='rel', cooldown=0, min_lr=0, eps=1e-08)\n",
    "# print number of trainable parameters:\n",
    "printc('Number of trainable parameters:', sum(p.numel() for p in model.parameters() if p.requires_grad))\n",
    "\n",
    "criterion = torch.nn.CrossEntropyLoss()\n",
    "\n",
    "best_loss = math.inf\n",
    "counter_i = 0\n",
    "pbar = tqdm(range(config['epochs']), postfix={'loss': 0.0, 'acc': 0.0})\n",
    "for epoch in pbar:\n",
    "    model.train()\n",
    "    for images, labels in train_loader:\n",
    "        b, h, c = images.shape\n",
    "        # Forward pass\n",
    "        images = images.float().to(device)\n",
    "        labels = labels.to(device)\n",
    "        outputs = model(images)\n",
    "        # probs = F.softmax(outputs, dim=1)\n",
    "        loss= criterion(outputs, labels.long())\n",
    "        # Backward and optimize\n",
    "        optimizer.zero_grad()\n",
    "        loss.backward()\n",
    "        torch.nn.utils.clip_grad_norm_(model.parameters(), 1., norm_type=2)\n",
    "        optimizer.step()\n",
    "        # scheduler.step(loss)\n",
    "        # train loss and accuracy check:\n",
    "        # if counter_i % 1000 == 0 and counter_i != 0:\n",
    "        #     print('Epoch [{}/{}], Loss: {:.4f}'.format(epoch+1, config['epochs'], loss.item()))\n",
    "    val_losses = []\n",
    "    accs = []\n",
    "    model.eval()\n",
    "    for images, labels in val_loader:\n",
    "        images = images.float().to(device)\n",
    "        labels = labels.to(device)\n",
    "        outputs = model(images)\n",
    "        # outputs = outputs.permute(0, 2, 1)\n",
    "        loss = criterion(outputs, labels.long())\n",
    "        val_losses.append(loss.item())\n",
    "        # accuracy against labels:\n",
    "        predicted = model.forward_pred(images)\n",
    "        # predicted == labels\n",
    "        acc = (predicted == labels).sum().item() / predicted.shape[0]\n",
    "        accs.append(acc)\n",
    "    val_loss = sum(val_losses) / len(val_losses)\n",
    "    accs = sum(accs) / len(accs)\n",
    "    # print(f'Epoch [{epoch+1}/{config[\"epochs\"]}], Val Loss: {val_loss}, Mean IoU: {miou}')\n",
    "    pbar.set_postfix({'loss': val_loss, 'acc': accs})\n",
    "    if val_loss < best_loss:\n",
    "        best_loss = val_loss\n",
    "        torch.save(model.state_dict(), f'./saved_model/opportunity_{config[\"model\"]}_sec_sliding.pth')\n",
    "    # visualize the predictions:\n",
    "    # plt.plot(images[0, :].cpu().detach().numpy(), color='black')\n",
    "    # plt.plot(model.forward_pred(images)[0, :].cpu().detach().numpy(), label='Prediction')\n",
    "    # plt.plot(labels[0, :].cpu().detach().numpy(), label='Ground Truth')\n",
    "    # plt.legend()\n",
    "    # plt.show()\n",
    "    counter_i += 1\n",
    "# Test the model\n",
    "model.eval()"
   ]
  },
  {
   "cell_type": "code",
   "execution_count": 5,
   "metadata": {},
   "outputs": [
    {
     "name": "stdout",
     "output_type": "stream",
     "text": [
      "Test Accuracy of the model UNET on the test images: 83.91416474210932 %\n"
     ]
    }
   ],
   "source": [
    "model.load_state_dict(torch.load(f'./saved_model/opportunity_{config[\"model\"]}_sec_sliding.pth'))\n",
    "model.eval()\n",
    "\n",
    "with torch.no_grad():\n",
    "    correct = 0\n",
    "    total = 0\n",
    "    m_ious = []\n",
    "    for images, labels in test_loader:\n",
    "        images = images.float().to(device)\n",
    "        labels = labels.to(device)\n",
    "\n",
    "        simages, slabels = sec_sliding(images, labels, step=1, test=True)\n",
    "        simages = simages.reshape(-1, 50, 6)\n",
    "        outputs = model(simages)\n",
    "        outputs = outputs.reshape(slabels.shape[0], slabels.shape[1], 5)\n",
    "        predicted = outputs.argmax(dim=2)\n",
    "        total += labels.size(0) * labels.size(1)\n",
    "        correct += (predicted == labels).sum().item()\n",
    "        \n",
    "        # m_ious.append(mean_iou(outputs, labels.long(), num_classes=5))\n",
    "\n",
    "    print('Test Accuracy of the model {} on the test images: {} %'.format(config['model'].upper(), \n",
    "                                                                                        100 * correct / total))"
   ]
  },
  {
   "cell_type": "code",
   "execution_count": 6,
   "metadata": {},
   "outputs": [
    {
     "name": "stdout",
     "output_type": "stream",
     "text": [
      "Test Accuracy of the model UNET on the test images: 98.40223248652809 %, Mean IoU: 0.9672746062278748\n"
     ]
    }
   ],
   "source": [
    "unet = UNet(in_channels=6, out_channels=5).float().to(device)\n",
    "unet.load_state_dict(torch.load(f'./saved_model/opportunity_UNET.pth'))\n",
    "unet.eval()\n",
    "\n",
    "with torch.no_grad():\n",
    "        correct = 0\n",
    "        total = 0\n",
    "        m_ious = []\n",
    "        for images, labels in test_loader:\n",
    "            images = images.float().to(device)\n",
    "            labels = labels.to(device)\n",
    "            outputs = unet(images)\n",
    "            outputs = outputs.permute(0, 2, 1)\n",
    "            _, predicted = torch.max(outputs.data, 1)\n",
    "            total += labels.size(0) * labels.size(1)\n",
    "            correct += (predicted == labels).sum().item()\n",
    "            m_ious.append(mean_iou(unet.forward_pred(images), labels.long(), num_classes=5))\n",
    "\n",
    "        print('Test Accuracy of the model {} on the test images: {} %, Mean IoU: {}'.format(config['model'].upper(), \n",
    "                                                                                            100 * correct / total, \n",
    "                                                                                            sum(m_ious) / len(m_ious)))"
   ]
  },
  {
   "cell_type": "markdown",
   "metadata": {},
   "source": []
  },
  {
   "cell_type": "code",
   "execution_count": null,
   "metadata": {},
   "outputs": [],
   "source": []
  }
 ],
 "metadata": {
  "kernelspec": {
   "display_name": "research",
   "language": "python",
   "name": "python3"
  },
  "language_info": {
   "codemirror_mode": {
    "name": "ipython",
    "version": 3
   },
   "file_extension": ".py",
   "mimetype": "text/x-python",
   "name": "python",
   "nbconvert_exporter": "python",
   "pygments_lexer": "ipython3",
   "version": "3.9.18"
  }
 },
 "nbformat": 4,
 "nbformat_minor": 2
}
