{
 "cells": [
  {
   "cell_type": "code",
   "execution_count": 1,
   "metadata": {},
   "outputs": [],
   "source": [
    "import math\n",
    "import os\n",
    "from methods import Segmenter, TransformerModel, LSTM, CRNN, UNet,CCRNN, UNet2, PatchTST\n",
    "from matplotlib import pyplot as plt\n",
    "import torch\n",
    "from utilities import printc, seed\n",
    "from utils_loader import get_dataloaders\n",
    "from torch.optim.lr_scheduler import ReduceLROnPlateau\n",
    "from tqdm import tqdm\n",
    "from utils_metrics import mean_iou\n",
    "from torch.nn import functional as F\n",
    "\n",
    "config = {\n",
    "        'batch_size': 128,\n",
    "        'epochs':200,\n",
    "        'fsl': False,\n",
    "        'model': 'unet',\n",
    "        'seed': 73054772,\n",
    "        'dataset': 'physiq',\n",
    "        'window_size': 50,\n",
    "        'step_size': 50,\n",
    "    }\n",
    "seed(config['seed'])\n",
    "device = torch.device('cuda' if torch.cuda.is_available() else 'cpu')"
   ]
  },
  {
   "cell_type": "code",
   "execution_count": 2,
   "metadata": {},
   "outputs": [],
   "source": [
    "from sklearn.model_selection import train_test_split\n",
    "from utilities import sliding_windows\n",
    "from utils_dataset import ClassificationDataset\n",
    "from torch.utils.data import Dataset, DataLoader\n",
    "from torch.utils.data import SubsetRandomSampler\n",
    "from utils_loader import _load\n",
    "\n",
    "\n",
    "\n",
    "def sec_sliding(samples, labels, step=1):\n",
    "    # create a sec sliding windows with step 1:\n",
    "    sw2 = sliding_windows(50, step)\n",
    "    # add padding on the samples left and right:\n",
    "    samples = torch.nn.functional.pad(samples.permute(0, 2, 1), (25, 25), \"constant\", 0).permute(0, 2, 1)\n",
    "    labels = torch.nn.functional.pad(labels.unsqueeze(1), (25, 25), \"reflect\").squeeze()\n",
    "    samples, _ = sw2(samples, None)\n",
    "    labels = labels.unfold(1, 50, step)\n",
    "    samples = samples.reshape(-1, 50, 6)\n",
    "    labels = labels.reshape(-1, 50)\n",
    "    return samples, labels\n",
    "\n",
    "def non_fsl_dataloaders_with_sec_sliding(config):\n",
    "    \"\"\"\n",
    "    Get dataloaders for the train, val, test sets for non-FSL\n",
    "\n",
    "    Args:\n",
    "        config (_type_): NA\n",
    "    \"\"\"\n",
    "    inputs, labels = _load(config)\n",
    "    sw = sliding_windows(300, 50)\n",
    "    segmented_samples, segmented_labels = sw(torch.tensor(inputs), torch.tensor(labels))\n",
    "    # Split the dataset into train, val and test:\n",
    "    train_samples, test_samples, train_labels, test_labels = train_test_split(segmented_samples, segmented_labels, test_size=0.2, random_state=42)\n",
    "    train_samples, val_samples, train_labels, val_labels = train_test_split(train_samples, train_labels, test_size=0.2, random_state=42)\n",
    "\n",
    "    train_samples, train_labels = sec_sliding(train_samples, train_labels)\n",
    "    val_samples, val_labels = sec_sliding(val_samples, val_labels)\n",
    "    test_samples, test_labels = sec_sliding(test_samples, test_labels)\n",
    "    train_set = ClassificationDataset(train_samples, train_labels)\n",
    "    val_set = ClassificationDataset(val_samples, val_labels)\n",
    "    test_set = ClassificationDataset(test_samples, test_labels)\n",
    "    temp_loader = DataLoader(train_set, batch_size=config['batch_size'], shuffle=True)\n",
    "    printc(\"Train batch size if no sampler: \", len(temp_loader))\n",
    "    # subsample the dataset:\n",
    "    train_sampler = SubsetRandomSampler(list(range(0, len(train_set), 50)))\n",
    "    # val:\n",
    "    val_sampler = SubsetRandomSampler(list(range(0, len(val_set), 50)))\n",
    "    # test:\n",
    "    test_sampler = SubsetRandomSampler(list(range(0, len(test_set), 50)))\n",
    "    \n",
    "    train_loader = DataLoader(\n",
    "        train_set,\n",
    "        batch_size=config['batch_size'],\n",
    "        # shuffle=True,\n",
    "        num_workers=0,\n",
    "        pin_memory=True,\n",
    "        sampler=train_sampler\n",
    "        )\n",
    "    val_loader = DataLoader(\n",
    "        val_set,\n",
    "        batch_size=config['batch_size'],\n",
    "        # shuffle=True,\n",
    "        num_workers=0,\n",
    "        pin_memory=True,\n",
    "        sampler=val_sampler\n",
    "        )\n",
    "    test_loader = DataLoader(\n",
    "        test_set,\n",
    "        batch_size=config['batch_size'],\n",
    "        # shuffle=True,\n",
    "        num_workers=0,\n",
    "        pin_memory=True,\n",
    "        sampler=test_sampler\n",
    "        )\n",
    "    return train_loader, val_loader, test_loader"
   ]
  },
  {
   "cell_type": "code",
   "execution_count": 3,
   "metadata": {},
   "outputs": [
    {
     "name": "stdout",
     "output_type": "stream",
     "text": [
      "torch.Size([834071, 50, 6]) torch.Size([208593, 50, 6]) torch.Size([260666, 50, 6]) torch.Size([834071, 50]) torch.Size([208593, 50]) torch.Size([260666, 50])\n",
      "\u001b[91mTrain batch size if no sampler:  6517\u001b[0m\n"
     ]
    },
    {
     "data": {
      "text/plain": [
       "(131, 33, 41)"
      ]
     },
     "execution_count": 3,
     "metadata": {},
     "output_type": "execute_result"
    }
   ],
   "source": [
    "train_loader, val_loader, test_loader = non_fsl_dataloaders_with_sec_sliding(config)\n",
    "len(train_loader), len(val_loader), len(test_loader)\n"
   ]
  },
  {
   "cell_type": "code",
   "execution_count": 14,
   "metadata": {},
   "outputs": [
    {
     "name": "stdout",
     "output_type": "stream",
     "text": [
      "\u001b[91mNumber of trainable parameters: 384261\u001b[0m\n"
     ]
    },
    {
     "name": "stderr",
     "output_type": "stream",
     "text": [
      "  0%|          | 1/200 [00:28<1:33:17, 28.13s/it, loss=0.685, acc=0.72]\n"
     ]
    },
    {
     "ename": "KeyboardInterrupt",
     "evalue": "",
     "output_type": "error",
     "traceback": [
      "\u001b[0;31m---------------------------------------------------------------------------\u001b[0m",
      "\u001b[0;31mKeyboardInterrupt\u001b[0m                         Traceback (most recent call last)",
      "Cell \u001b[0;32mIn[14], line 28\u001b[0m\n\u001b[1;32m     26\u001b[0m \u001b[38;5;66;03m# Backward and optimize\u001b[39;00m\n\u001b[1;32m     27\u001b[0m optimizer\u001b[38;5;241m.\u001b[39mzero_grad()\n\u001b[0;32m---> 28\u001b[0m \u001b[43mloss\u001b[49m\u001b[38;5;241;43m.\u001b[39;49m\u001b[43mbackward\u001b[49m\u001b[43m(\u001b[49m\u001b[43m)\u001b[49m\n\u001b[1;32m     29\u001b[0m torch\u001b[38;5;241m.\u001b[39mnn\u001b[38;5;241m.\u001b[39mutils\u001b[38;5;241m.\u001b[39mclip_grad_norm_(model\u001b[38;5;241m.\u001b[39mparameters(), \u001b[38;5;241m1.\u001b[39m, norm_type\u001b[38;5;241m=\u001b[39m\u001b[38;5;241m2\u001b[39m)\n\u001b[1;32m     30\u001b[0m optimizer\u001b[38;5;241m.\u001b[39mstep()\n",
      "File \u001b[0;32m~/opt/anaconda3/envs/research/lib/python3.9/site-packages/torch/_tensor.py:492\u001b[0m, in \u001b[0;36mTensor.backward\u001b[0;34m(self, gradient, retain_graph, create_graph, inputs)\u001b[0m\n\u001b[1;32m    482\u001b[0m \u001b[38;5;28;01mif\u001b[39;00m has_torch_function_unary(\u001b[38;5;28mself\u001b[39m):\n\u001b[1;32m    483\u001b[0m     \u001b[38;5;28;01mreturn\u001b[39;00m handle_torch_function(\n\u001b[1;32m    484\u001b[0m         Tensor\u001b[38;5;241m.\u001b[39mbackward,\n\u001b[1;32m    485\u001b[0m         (\u001b[38;5;28mself\u001b[39m,),\n\u001b[0;32m   (...)\u001b[0m\n\u001b[1;32m    490\u001b[0m         inputs\u001b[38;5;241m=\u001b[39minputs,\n\u001b[1;32m    491\u001b[0m     )\n\u001b[0;32m--> 492\u001b[0m \u001b[43mtorch\u001b[49m\u001b[38;5;241;43m.\u001b[39;49m\u001b[43mautograd\u001b[49m\u001b[38;5;241;43m.\u001b[39;49m\u001b[43mbackward\u001b[49m\u001b[43m(\u001b[49m\n\u001b[1;32m    493\u001b[0m \u001b[43m    \u001b[49m\u001b[38;5;28;43mself\u001b[39;49m\u001b[43m,\u001b[49m\u001b[43m \u001b[49m\u001b[43mgradient\u001b[49m\u001b[43m,\u001b[49m\u001b[43m \u001b[49m\u001b[43mretain_graph\u001b[49m\u001b[43m,\u001b[49m\u001b[43m \u001b[49m\u001b[43mcreate_graph\u001b[49m\u001b[43m,\u001b[49m\u001b[43m \u001b[49m\u001b[43minputs\u001b[49m\u001b[38;5;241;43m=\u001b[39;49m\u001b[43minputs\u001b[49m\n\u001b[1;32m    494\u001b[0m \u001b[43m\u001b[49m\u001b[43m)\u001b[49m\n",
      "File \u001b[0;32m~/opt/anaconda3/envs/research/lib/python3.9/site-packages/torch/autograd/__init__.py:251\u001b[0m, in \u001b[0;36mbackward\u001b[0;34m(tensors, grad_tensors, retain_graph, create_graph, grad_variables, inputs)\u001b[0m\n\u001b[1;32m    246\u001b[0m     retain_graph \u001b[38;5;241m=\u001b[39m create_graph\n\u001b[1;32m    248\u001b[0m \u001b[38;5;66;03m# The reason we repeat the same comment below is that\u001b[39;00m\n\u001b[1;32m    249\u001b[0m \u001b[38;5;66;03m# some Python versions print out the first line of a multi-line function\u001b[39;00m\n\u001b[1;32m    250\u001b[0m \u001b[38;5;66;03m# calls in the traceback and some print out the last line\u001b[39;00m\n\u001b[0;32m--> 251\u001b[0m \u001b[43mVariable\u001b[49m\u001b[38;5;241;43m.\u001b[39;49m\u001b[43m_execution_engine\u001b[49m\u001b[38;5;241;43m.\u001b[39;49m\u001b[43mrun_backward\u001b[49m\u001b[43m(\u001b[49m\u001b[43m  \u001b[49m\u001b[38;5;66;43;03m# Calls into the C++ engine to run the backward pass\u001b[39;49;00m\n\u001b[1;32m    252\u001b[0m \u001b[43m    \u001b[49m\u001b[43mtensors\u001b[49m\u001b[43m,\u001b[49m\n\u001b[1;32m    253\u001b[0m \u001b[43m    \u001b[49m\u001b[43mgrad_tensors_\u001b[49m\u001b[43m,\u001b[49m\n\u001b[1;32m    254\u001b[0m \u001b[43m    \u001b[49m\u001b[43mretain_graph\u001b[49m\u001b[43m,\u001b[49m\n\u001b[1;32m    255\u001b[0m \u001b[43m    \u001b[49m\u001b[43mcreate_graph\u001b[49m\u001b[43m,\u001b[49m\n\u001b[1;32m    256\u001b[0m \u001b[43m    \u001b[49m\u001b[43minputs\u001b[49m\u001b[43m,\u001b[49m\n\u001b[1;32m    257\u001b[0m \u001b[43m    \u001b[49m\u001b[43mallow_unreachable\u001b[49m\u001b[38;5;241;43m=\u001b[39;49m\u001b[38;5;28;43;01mTrue\u001b[39;49;00m\u001b[43m,\u001b[49m\n\u001b[1;32m    258\u001b[0m \u001b[43m    \u001b[49m\u001b[43maccumulate_grad\u001b[49m\u001b[38;5;241;43m=\u001b[39;49m\u001b[38;5;28;43;01mTrue\u001b[39;49;00m\u001b[43m,\u001b[49m\n\u001b[1;32m    259\u001b[0m \u001b[43m\u001b[49m\u001b[43m)\u001b[49m\n",
      "\u001b[0;31mKeyboardInterrupt\u001b[0m: "
     ]
    }
   ],
   "source": [
    "from methods.unet import UNet_encoder\n",
    "from train import get_model\n",
    "\n",
    "model = UNet_encoder(in_channels=6, out_channels=5).float().to(device)\n",
    "# model = UNet(in_channels=6, out_channels=5).float().to(device)\n",
    "optimizer = torch.optim.Adam(model.parameters(), lr=1e-3)\n",
    "# scheduler = ReduceLROnPlateau(optimizer, mode='min', factor=0.1, patience=10, verbose=True, threshold=0.0001, threshold_mode='rel', cooldown=0, min_lr=0, eps=1e-08)\n",
    "# print number of trainable parameters:\n",
    "printc('Number of trainable parameters:', sum(p.numel() for p in model.parameters() if p.requires_grad))\n",
    "\n",
    "criterion = torch.nn.CrossEntropyLoss()\n",
    "\n",
    "best_loss = math.inf\n",
    "counter_i = 0\n",
    "pbar = tqdm(range(config['epochs']), postfix={'loss': 0.0, 'acc': 0.0})\n",
    "for epoch in pbar:\n",
    "    model.train()\n",
    "    for images, labels in train_loader:\n",
    "        b, h, c = images.shape\n",
    "        # Forward pass\n",
    "        images = images.float().to(device)\n",
    "        labels = labels.to(device)\n",
    "        outputs = model(images)\n",
    "        # probs = F.softmax(outputs, dim=1)\n",
    "        loss= criterion(outputs, labels.long())\n",
    "        # Backward and optimize\n",
    "        optimizer.zero_grad()\n",
    "        loss.backward()\n",
    "        torch.nn.utils.clip_grad_norm_(model.parameters(), 1., norm_type=2)\n",
    "        optimizer.step()\n",
    "        # scheduler.step(loss)\n",
    "        # train loss and accuracy check:\n",
    "        # if counter_i % 1000 == 0 and counter_i != 0:\n",
    "        #     print('Epoch [{}/{}], Loss: {:.4f}'.format(epoch+1, config['epochs'], loss.item()))\n",
    "    val_losses = []\n",
    "    accs = []\n",
    "    model.eval()\n",
    "    for images, labels in val_loader:\n",
    "        images = images.float().to(device)\n",
    "        labels = labels.to(device)\n",
    "        outputs = model(images)\n",
    "        # outputs = outputs.permute(0, 2, 1)\n",
    "        loss = criterion(outputs, labels.long())\n",
    "        val_losses.append(loss.item())\n",
    "        # accuracy against labels:\n",
    "        predicted = model.forward_pred(images)\n",
    "        # predicted == labels\n",
    "        acc = (predicted == labels).sum().item() / predicted.shape[0]\n",
    "        accs.append(acc)\n",
    "    val_loss = sum(val_losses) / len(val_losses)\n",
    "    accs = sum(accs) / len(accs)\n",
    "    # print(f'Epoch [{epoch+1}/{config[\"epochs\"]}], Val Loss: {val_loss}, Mean IoU: {miou}')\n",
    "    pbar.set_postfix({'loss': val_loss, 'acc': accs})\n",
    "    if val_loss < best_loss:\n",
    "        best_loss = val_loss\n",
    "        torch.save(model.state_dict(), f'./saved_model/opportunity_{config[\"model\"]}_sec_sliding.pth')\n",
    "    # visualize the predictions:\n",
    "    # plt.plot(images[0, :].cpu().detach().numpy(), color='black')\n",
    "    # plt.plot(model.forward_pred(images)[0, :].cpu().detach().numpy(), label='Prediction')\n",
    "    # plt.plot(labels[0, :].cpu().detach().numpy(), label='Ground Truth')\n",
    "    # plt.legend()\n",
    "    # plt.show()\n",
    "    counter_i += 1\n",
    "# Test the model\n",
    "model.eval()"
   ]
  },
  {
   "cell_type": "code",
   "execution_count": null,
   "metadata": {},
   "outputs": [
    {
     "data": {
      "text/plain": [
       "torch.Size([128])"
      ]
     },
     "execution_count": 10,
     "metadata": {},
     "output_type": "execute_result"
    }
   ],
   "source": []
  },
  {
   "cell_type": "code",
   "execution_count": null,
   "metadata": {},
   "outputs": [],
   "source": []
  }
 ],
 "metadata": {
  "kernelspec": {
   "display_name": "research",
   "language": "python",
   "name": "python3"
  },
  "language_info": {
   "codemirror_mode": {
    "name": "ipython",
    "version": 3
   },
   "file_extension": ".py",
   "mimetype": "text/x-python",
   "name": "python",
   "nbconvert_exporter": "python",
   "pygments_lexer": "ipython3",
   "version": "3.9.18"
  }
 },
 "nbformat": 4,
 "nbformat_minor": 2
}
