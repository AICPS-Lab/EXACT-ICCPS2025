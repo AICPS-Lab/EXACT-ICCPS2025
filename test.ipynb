{
 "cells": [
  {
   "cell_type": "code",
   "execution_count": null,
   "metadata": {},
   "outputs": [],
   "source": [
    "from methods.EX import EX"
   ]
  },
  {
   "cell_type": "markdown",
   "metadata": {},
   "source": []
  },
  {
   "cell_type": "code",
   "execution_count": 2,
   "metadata": {},
   "outputs": [
    {
     "name": "stdout",
     "output_type": "stream",
     "text": [
      "torch.Size([256, 200, 1])\n",
      "3445569\n"
     ]
    }
   ],
   "source": [
    "# Example input tensor with 6 channels and sequence length of 256\n",
    "import torch\n",
    "\n",
    "\n",
    "input_tensor = torch.randn(256, 200, 6)  # Batch size 1, 6 channels, 256 time steps\n",
    "\n",
    "# Instantiate the model\n",
    "model = EX(in_channels=6, out_channels=1)\n",
    "\n",
    "# Forward pass\n",
    "output = model(input_tensor)\n",
    "\n",
    "print(output.shape)  # Should output: torch.Size([1, 1, 256])\n",
    "\n",
    "# trainable parameters\n",
    "print(sum(p.numel() for p in model.parameters() if p.requires_grad)) \n"
   ]
  },
  {
   "cell_type": "code",
   "execution_count": 3,
   "metadata": {},
   "outputs": [
    {
     "name": "stdout",
     "output_type": "stream",
     "text": [
      "torch.Size([256, 200, 1])\n"
     ]
    }
   ],
   "source": [
    "from methods import UNet\n",
    "class args:\n",
    "    def __init__(self):\n",
    "        self.in_channels = 6\n",
    "        self.out_channels = 1\n",
    "\n",
    "unet = UNet(args())\n",
    "output = unet(input_tensor)\n",
    "print(output.shape)  # Should output: torch.Size([1, 1, 256])"
   ]
  },
  {
   "cell_type": "code",
   "execution_count": null,
   "metadata": {},
   "outputs": [],
   "source": []
  }
 ],
 "metadata": {
  "kernelspec": {
   "display_name": "research",
   "language": "python",
   "name": "python3"
  },
  "language_info": {
   "codemirror_mode": {
    "name": "ipython",
    "version": 3
   },
   "file_extension": ".py",
   "mimetype": "text/x-python",
   "name": "python",
   "nbconvert_exporter": "python",
   "pygments_lexer": "ipython3",
   "version": "3.9.18"
  }
 },
 "nbformat": 4,
 "nbformat_minor": 2
}
