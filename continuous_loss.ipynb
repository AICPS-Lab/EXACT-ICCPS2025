{
 "cells": [
  {
   "cell_type": "code",
   "execution_count": 104,
   "metadata": {},
   "outputs": [],
   "source": [
    "import torch\n",
    "import torch.nn.functional as F\n",
    "def c_loss(logits):\n",
    "    probabilities = F.softmax(logits, dim=1)\n",
    "    print(probabilities.shape) \n",
    "    one_hot_predictions = torch.argmax(probabilities, dim=1)\n",
    "    \n",
    "    print(one_hot_predictions.shape)\n",
    "    print(torch.abs(one_hot_predictions[:, 1:] - one_hot_predictions[:, :-1]).shape)\n",
    "    product_prob = torch.prod(probabilities, dim=1)\n",
    "    \n",
    "    # Calculate changes between adjacent elements in the sequence\n",
    "    changes = torch.abs(one_hot_predictions[:, 1:] - one_hot_predictions[:, :-1]) * torch.abs(product_prob[:, 1:] - product_prob[:, :-1])\n",
    "    # Sum the changes to get the penalty term\n",
    "    print(torch.abs(one_hot_predictions[:, 1:] - one_hot_predictions[:, :-1]).sum(dim=1).float().mean())\n",
    "    print(torch.abs(product_prob[:, 1:] - product_prob[:, :-1]).sum(dim=1).float().mean())\n",
    "    penalty = changes.sum(dim=1).float().mean()\n",
    "    return penalty"
   ]
  },
  {
   "cell_type": "code",
   "execution_count": 105,
   "metadata": {},
   "outputs": [
    {
     "name": "stdout",
     "output_type": "stream",
     "text": [
      "torch.Size([74, 2, 100])\n",
      "torch.Size([74, 100])\n",
      "torch.Size([74, 99])\n",
      "tensor(50.4054)\n",
      "tensor(7.0185)\n"
     ]
    },
    {
     "data": {
      "text/plain": [
       "tensor(3.5885)"
      ]
     },
     "execution_count": 105,
     "metadata": {},
     "output_type": "execute_result"
    }
   ],
   "source": [
    "sample = torch.randn(74, 2, 100)\n",
    "# sample = F.softmax(sample, dim=1)\n",
    "# print(sample)\n",
    "c_loss(sample)"
   ]
  },
  {
   "cell_type": "code",
   "execution_count": null,
   "metadata": {},
   "outputs": [],
   "source": []
  },
  {
   "cell_type": "code",
   "execution_count": null,
   "metadata": {},
   "outputs": [],
   "source": []
  }
 ],
 "metadata": {
  "kernelspec": {
   "display_name": "research",
   "language": "python",
   "name": "python3"
  },
  "language_info": {
   "codemirror_mode": {
    "name": "ipython",
    "version": 3
   },
   "file_extension": ".py",
   "mimetype": "text/x-python",
   "name": "python",
   "nbconvert_exporter": "python",
   "pygments_lexer": "ipython3",
   "version": "3.9.18"
  }
 },
 "nbformat": 4,
 "nbformat_minor": 2
}
