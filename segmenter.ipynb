{
 "cells": [
  {
   "cell_type": "code",
   "execution_count": 10,
   "metadata": {},
   "outputs": [],
   "source": [
    "# https://github.com/open-mmlab/mmsegmentation/blob/v0.21.0/mmseg/models/decode_heads/segmenter_mask_head.py#L15"
   ]
  },
  {
   "cell_type": "code",
   "execution_count": 20,
   "metadata": {},
   "outputs": [],
   "source": [
    "import torch\n",
    "import torch.nn as nn\n",
    "import torch.nn.functional as F\n",
    "from torch.nn import ModuleList\n",
    "\n",
    "from torch.nn.modules.transformer import TransformerEncoder, TransformerEncoderLayer\n",
    "\n",
    "\n",
    "class SimpleSegmenterMaskTransformerHead(nn.Module):\n",
    "    def __init__(self, in_channels, num_layers=4, num_heads=8, embed_dims=256, **kwargs):\n",
    "        super(SimpleSegmenterMaskTransformerHead, self).__init__(**kwargs)\n",
    "\n",
    "        # Fixed parameters for simplicity\n",
    "        mlp_ratio = 4\n",
    "        # norm_cfg = dict(type='LN')\n",
    "        # act_cfg = dict(type='GELU')\n",
    "        self.init_std = 0.02\n",
    "        self.num_classes = 2\n",
    "        self.layers = nn.ModuleList()\n",
    "        for _ in range(num_layers):\n",
    "            layer = nn.TransformerEncoderLayer(\n",
    "                d_model=embed_dims,\n",
    "                nhead=num_heads,\n",
    "                dim_feedforward=mlp_ratio * embed_dims,\n",
    "                dropout=0.1,\n",
    "                activation=F.gelu,\n",
    "                layer_norm_eps=1e-05,\n",
    "                batch_first=True,\n",
    "                norm_first=False,\n",
    "                bias=True\n",
    "            )\n",
    "            self.layers.append(layer)\n",
    "\n",
    "        self.dec_proj = nn.Linear(in_channels, embed_dims)\n",
    "        self.cls_emb = nn.Parameter(torch.randn(1, self.num_classes, embed_dims))\n",
    "        self.patch_proj = nn.Linear(embed_dims, embed_dims, bias=False)\n",
    "        self.classes_proj = nn.Linear(embed_dims, embed_dims, bias=False)\n",
    "        self.decoder_norm = nn.LayerNorm(embed_dims)\n",
    "        self.mask_norm = nn.LayerNorm(self.num_classes)\n",
    "\n",
    "    # def init_weights(self):\n",
    "    #     nn.init.trunc_normal_(self.cls_emb, std=self.init_std)\n",
    "    #     nn.init.trunc_normal_(self.patch_proj.weight, std=self.init_std)\n",
    "    #     nn.init.trunc_normal_(self.classes_proj.weight, std=init_std)\n",
    "    #     for layer in self.layers:\n",
    "    #         layer.init_weights()\n",
    "\n",
    "    def forward(self, inputs):\n",
    "        x = inputs.permute(0, 2, 1) # b h c\n",
    "        b, c, h = x.shape\n",
    "        x = x.view(b, c, -1).permute(0, 2, 1)\n",
    "\n",
    "        x = self.dec_proj(x)\n",
    "        cls_emb = self.cls_emb.expand(x.size(0), -1, -1)\n",
    "        x = torch.cat((x, cls_emb), 1)\n",
    "        for layer in self.layers:\n",
    "            x = layer(x)\n",
    "        x = self.decoder_norm(x)\n",
    "\n",
    "        patches = self.patch_proj(x[:, :-self.num_classes])\n",
    "        cls_seg_feat = self.classes_proj(x[:, -self.num_classes:])\n",
    "\n",
    "        masks = patches @ cls_seg_feat.transpose(1, 2)\n",
    "        masks = self.mask_norm(masks).view(b, h, -1)\n",
    "\n",
    "        return masks\n"
   ]
  },
  {
   "cell_type": "code",
   "execution_count": 21,
   "metadata": {},
   "outputs": [],
   "source": [
    "s = SimpleSegmenterMaskTransformerHead(6)"
   ]
  },
  {
   "cell_type": "code",
   "execution_count": 22,
   "metadata": {},
   "outputs": [
    {
     "data": {
      "text/plain": [
       "torch.Size([2, 100, 2])"
      ]
     },
     "execution_count": 22,
     "metadata": {},
     "output_type": "execute_result"
    }
   ],
   "source": [
    "inp = torch.randn(2, 100, 6)\n",
    "s(inp).shape"
   ]
  },
  {
   "cell_type": "code",
   "execution_count": null,
   "metadata": {},
   "outputs": [],
   "source": []
  }
 ],
 "metadata": {
  "kernelspec": {
   "display_name": "research",
   "language": "python",
   "name": "python3"
  },
  "language_info": {
   "codemirror_mode": {
    "name": "ipython",
    "version": 3
   },
   "file_extension": ".py",
   "mimetype": "text/x-python",
   "name": "python",
   "nbconvert_exporter": "python",
   "pygments_lexer": "ipython3",
   "version": "3.9.18"
  }
 },
 "nbformat": 4,
 "nbformat_minor": 2
}
