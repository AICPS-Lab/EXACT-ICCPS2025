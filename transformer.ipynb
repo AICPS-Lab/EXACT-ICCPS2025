{
 "cells": [
  {
   "cell_type": "code",
   "execution_count": 117,
   "metadata": {},
   "outputs": [],
   "source": [
    "import math\n",
    "import torch\n",
    "import torch.nn as nn\n",
    "import torch.nn.functional as F\n"
   ]
  },
  {
   "cell_type": "code",
   "execution_count": 118,
   "metadata": {},
   "outputs": [],
   "source": [
    "import torch\n",
    "import torch.nn as nn\n",
    "import math\n",
    "\n",
    "class PositionalEncoding(nn.Module):\n",
    "    def __init__(self, d_model, dropout=0.1, max_len=5000, batch_first=False):\n",
    "        super(PositionalEncoding, self).__init__()\n",
    "        self.dropout = nn.Dropout(p=dropout)\n",
    "        self.batch_first = batch_first\n",
    "\n",
    "        pe = torch.zeros(max_len, d_model)\n",
    "        position = torch.arange(0, max_len, dtype=torch.float).unsqueeze(1)\n",
    "        div_term = torch.exp(torch.arange(0, d_model, 2).float() * (-math.log(10000.0) / d_model))\n",
    "        pe[..., 0::2] = torch.sin(position * div_term)\n",
    "        pe[..., 1::2] = torch.cos(position * div_term)\n",
    "\n",
    "        if batch_first:\n",
    "            pe = pe.unsqueeze(0)\n",
    "        else:\n",
    "            pe = pe.unsqueeze(0).transpose(0, 1)\n",
    "\n",
    "        self.register_buffer('pe', pe)\n",
    "\n",
    "    def forward(self, x):\n",
    "        if self.batch_first:\n",
    "            x = x + self.pe[:, :x.size(1)]\n",
    "        else:\n",
    "            x = x + self.pe[:x.size(0)]\n",
    "\n",
    "        return self.dropout(x)\n",
    "\n"
   ]
  },
  {
   "cell_type": "code",
   "execution_count": 119,
   "metadata": {},
   "outputs": [],
   "source": [
    "class TransformerModel(nn.Transformer):\n",
    "    \"\"\"Container module with an encoder, a recurrent or transformer module, and a decoder.\"\"\"\n",
    "\n",
    "    def __init__(self, ntoken=6, ninp=512, nhead=8, nhid=2048, nlayers=6, dropout=0.5):\n",
    "        super(TransformerModel, self).__init__(d_model=ninp, nhead=nhead, dim_feedforward=nhid, num_encoder_layers=nlayers, batch_first=True)\n",
    "        self.model_type = 'Transformer'\n",
    "        self.src_mask = None\n",
    "        self.pos_encoder = PositionalEncoding(ninp, dropout, batch_first=True)\n",
    "\n",
    "        self.input_emb = nn.Linear(ntoken, ninp)\n",
    "        self.ninp = ninp\n",
    "        self.decoder = nn.Linear(ninp, 1)\n",
    "\n",
    "        self.init_weights()\n",
    "\n",
    "    def _generate_square_subsequent_mask(self, sz):\n",
    "        return torch.log(torch.tril(torch.ones(sz,sz)))\n",
    "\n",
    "    def init_weights(self):\n",
    "        initrange = 0.1\n",
    "        nn.init.uniform_(self.input_emb.weight, -initrange, initrange)\n",
    "        nn.init.zeros_(self.decoder.bias)\n",
    "        nn.init.uniform_(self.decoder.weight, -initrange, initrange)\n",
    "\n",
    "    def forward(self, src, has_mask=True):\n",
    "        if has_mask:\n",
    "            device = src.device\n",
    "            if self.src_mask is None or self.src_mask.size(0) != len(src):\n",
    "                mask = self._generate_square_subsequent_mask(len(src)).to(device)\n",
    "                self.src_mask = mask\n",
    "        else:\n",
    "            self.src_mask = None\n",
    "        \n",
    "        src = self.input_emb(src) # embedding\n",
    "        src = self.pos_encoder(src)\n",
    "        output = self.encoder(src, mask=self.src_mask) # transformer encoder\n",
    "        output = self.decoder(output)\n",
    "        \n",
    "        return F.log_softmax(output, dim=-1)"
   ]
  },
  {
   "cell_type": "code",
   "execution_count": 120,
   "metadata": {},
   "outputs": [
    {
     "data": {
      "text/plain": [
       "torch.Size([32, 25, 1])"
      ]
     },
     "execution_count": 120,
     "metadata": {},
     "output_type": "execute_result"
    }
   ],
   "source": [
    "\n",
    "torch.manual_seed(777)\n",
    "\n",
    "if torch.backends.mps.is_available():\n",
    "    device = torch.device(\"mps\")\n",
    "else:\n",
    "    device = torch.device(\"cpu\")\n",
    "model = TransformerModel()\n",
    "\n",
    "s = model(torch.rand(32, 25, 6), has_mask=False)\n",
    "s.shape"
   ]
  },
  {
   "cell_type": "code",
   "execution_count": 121,
   "metadata": {},
   "outputs": [
    {
     "name": "stdout",
     "output_type": "stream",
     "text": [
      ".DS_Store is not a csv file\n"
     ]
    },
    {
     "data": {
      "text/plain": [
       "19250"
      ]
     },
     "execution_count": 121,
     "metadata": {},
     "output_type": "execute_result"
    }
   ],
   "source": [
    "import os\n",
    "import numpy as np\n",
    "import pandas as pd\n",
    "from torch.utils.data import Dataset\n",
    "\n",
    "def default_splitter(folder_name, split=False):\n",
    "    \"\"\"This is a custom dataset class for time series data.\n",
    "    Specifically, it is using the typical way to load all the data into memory and \n",
    "    return data and label in __getitem__ method.\n",
    "\n",
    "    Args:\n",
    "        file_name (_type_): _description_\n",
    "        split (bool, optional): if split False, only two ways, \n",
    "                                otherwise 3 ways. Defaults to False.\n",
    "\n",
    "    Returns:\n",
    "        [Datasets]: _description_\n",
    "    \"\"\"\n",
    "    file_names = []\n",
    "    for file in os.listdir(folder_name):\n",
    "        if os.path.isfile(os.path.join(folder_name, file)) and file.endswith('.csv'):\n",
    "            file_names.append(file)\n",
    "        else:\n",
    "            print(f'{file} is not a csv file')\n",
    "    # permute the order:\n",
    "    file_names = np.random.permutation(file_names)\n",
    "    \n",
    "    if split:\n",
    "        train_file_names = file_names[:int(len(file_names)*0.8)]\n",
    "        val_file_names = file_names[int(len(file_names)*0.8):int(len(file_names)*0.9)]\n",
    "        test_file_names = file_names[int(len(file_names)*0.9):]\n",
    "        return DefaultDataset(train_file_names), DefaultDataset(val_file_names), DefaultDataset(test_file_names)\n",
    "    else:\n",
    "        # 2 ways split\n",
    "        train_file_names = file_names[:int(len(file_names)*0.8)]\n",
    "        test_file_names = file_names[int(len(file_names)*0.8):]\n",
    "        return DefaultDataset(train_file_names), DefaultDataset(test_file_names)\n",
    "\n",
    "class sliding_windows(nn.Module):\n",
    "    def __init__(self, total_length, width, step):\n",
    "        # https://stackoverflow.com/questions/53972159/how-does-pytorchs-fold-and-unfold-work\n",
    "        super(sliding_windows, self).__init__()\n",
    "        self.total_length = total_length\n",
    "        self.width = width\n",
    "        self.step = step\n",
    "\n",
    "    def forward(self, input_time_series, labels):\n",
    "        input_transformed = torch.swapaxes(input_time_series.unfold(-2, size=self.width, step=self.step), -2, -1)\n",
    "        # For labels, we only have one dimension, so we unfold along that dimension\n",
    "        labels_transformed = labels.unfold(0, self.width, self.step)\n",
    "        return input_transformed, labels_transformed\n",
    "\n",
    "    def get_num_sliding_windows(self):\n",
    "        return round((self.total_length - (self.width - self.step)) / self.step)\n",
    "\n",
    "class DefaultDataset(Dataset):\n",
    "    \"\"\"\n",
    "    This is a custom dataset class for time series data.\n",
    "    Specifically, it is using the typical way to load all the data into memory and \n",
    "    return data and label in __getitem__ method.\n",
    "\n",
    "    TODO: add standardscaler into it to scale the data\n",
    "    Args:\n",
    "        Dataset (_type_): _description_\n",
    "    \"\"\"\n",
    "    def __init__(self, file_names):\n",
    "        self.file_names = file_names\n",
    "        self.x, self.y = self._load_all_data()\n",
    "        \n",
    "    def __len__(self):\n",
    "        return len(self.x)\n",
    "    \n",
    "    def __getitem__(self, idx):\n",
    "        return self.x[idx], self.y[idx]\n",
    "    \n",
    "    def _load_all_data(self):\n",
    "        # load into memory and do sliding windows:\n",
    "        sw = sliding_windows(50, 25, 20)\n",
    "        # load data into numpy:\n",
    "        x = []\n",
    "        y = []\n",
    "        for file in self.file_names:\n",
    "            data = pd.read_csv(os.path.join(folder_name, file))\n",
    "            data = data.values\n",
    "            data = torch.from_numpy(data)[:, 1::].float()\n",
    "            # create label length_0 = 0, length_-1 = 0, length_1:n-1 = 1\n",
    "            label = torch.zeros(data.shape[0])\n",
    "            label[1:-1] = 1\n",
    "            # do sliding windows:\n",
    "            data, label = sw(data, label)\n",
    "            # append to the list\n",
    "            x.append(data)\n",
    "            y.append(label)\n",
    "        return torch.cat(x), torch.cat(y)\n",
    "            \n",
    "        \n",
    "            \n",
    "        \n",
    "        \n",
    "    \n",
    "\n",
    "# Usage example\n",
    "folder_name = './datasets/spar'\n",
    "train_dataset, test_dataset = default_splitter(folder_name, split=False)\n",
    "len(train_dataset)\n"
   ]
  },
  {
   "cell_type": "code",
   "execution_count": 129,
   "metadata": {},
   "outputs": [
    {
     "name": "stdout",
     "output_type": "stream",
     "text": [
      "Epoch 0, iter 800, loss 0.12891874730587005\n",
      "Epoch 0, iter 1600, loss 0.12396249741315842\n",
      "Epoch 0, iter 2400, loss 0.12393124759197235\n",
      "Epoch 0, iter 3200, loss 0.12395624846220016\n",
      "Epoch 0, iter 4000, loss 0.12390624701976777\n"
     ]
    },
    {
     "data": {
      "image/png": "[encoded data removed]",
      "text/plain": [
       "<Figure size 640x480 with 1 Axes>"
      ]
     },
     "metadata": {},
     "output_type": "display_data"
    },
    {
     "name": "stdout",
     "output_type": "stream",
     "text": [
      "Epoch 0, iter 4800, loss 0.12396874725818634\n",
      "Epoch 0, iter 5600, loss 0.1240249988436699\n",
      "Epoch 0, iter 6400, loss 0.12397499769926071\n",
      "Epoch 0, iter 7200, loss 0.12394999802112579\n",
      "Epoch 0, iter 8000, loss 0.12395624816417694\n"
     ]
    },
    {
     "data": {
      "image/png": "[encoded data removed]",
      "text/plain": [
       "<Figure size 640x480 with 1 Axes>"
      ]
     },
     "metadata": {},
     "output_type": "display_data"
    },
    {
     "ename": "KeyboardInterrupt",
     "evalue": "",
     "output_type": "error",
     "traceback": [
      "\u001b[0;31m---------------------------------------------------------------------------\u001b[0m",
      "\u001b[0;31mKeyboardInterrupt\u001b[0m                         Traceback (most recent call last)",
      "Cell \u001b[0;32mIn[129], line 40\u001b[0m\n\u001b[1;32m     37\u001b[0m         scheduler\u001b[38;5;241m.\u001b[39mstep()\n\u001b[1;32m     38\u001b[0m     \u001b[38;5;28;01mreturn\u001b[39;00m model\n\u001b[0;32m---> 40\u001b[0m model \u001b[38;5;241m=\u001b[39m \u001b[43mtrain\u001b[49m\u001b[43m(\u001b[49m\u001b[43mmodel\u001b[49m\u001b[43m,\u001b[49m\u001b[43m \u001b[49m\u001b[43mtrain_dataset\u001b[49m\u001b[43m,\u001b[49m\u001b[43m \u001b[49m\u001b[43moptimizer\u001b[49m\u001b[43m,\u001b[49m\u001b[43m \u001b[49m\u001b[43mscheduler\u001b[49m\u001b[43m,\u001b[49m\u001b[43m \u001b[49m\u001b[43mcriterion\u001b[49m\u001b[43m,\u001b[49m\u001b[43m \u001b[49m\u001b[43mdevice\u001b[49m\u001b[43m,\u001b[49m\u001b[43m \u001b[49m\u001b[43mbatch_size\u001b[49m\u001b[38;5;241;43m=\u001b[39;49m\u001b[38;5;241;43m32\u001b[39;49m\u001b[43m,\u001b[49m\u001b[43m \u001b[49m\u001b[43mepochs\u001b[49m\u001b[38;5;241;43m=\u001b[39;49m\u001b[38;5;241;43m10\u001b[39;49m\u001b[43m)\u001b[49m\n",
      "Cell \u001b[0;32mIn[129], line 22\u001b[0m, in \u001b[0;36mtrain\u001b[0;34m(model, train_dataset, optimizer, scheduler, criterion, device, batch_size, epochs)\u001b[0m\n\u001b[1;32m     20\u001b[0m loss \u001b[38;5;241m=\u001b[39m criterion(output, label)\n\u001b[1;32m     21\u001b[0m loss\u001b[38;5;241m.\u001b[39mbackward()\n\u001b[0;32m---> 22\u001b[0m \u001b[43mtorch\u001b[49m\u001b[38;5;241;43m.\u001b[39;49m\u001b[43mnn\u001b[49m\u001b[38;5;241;43m.\u001b[39;49m\u001b[43mutils\u001b[49m\u001b[38;5;241;43m.\u001b[39;49m\u001b[43mclip_grad_norm_\u001b[49m\u001b[43m(\u001b[49m\u001b[43mmodel\u001b[49m\u001b[38;5;241;43m.\u001b[39;49m\u001b[43mparameters\u001b[49m\u001b[43m(\u001b[49m\u001b[43m)\u001b[49m\u001b[43m,\u001b[49m\u001b[43m \u001b[49m\u001b[38;5;241;43m0.5\u001b[39;49m\u001b[43m)\u001b[49m\n\u001b[1;32m     23\u001b[0m optimizer\u001b[38;5;241m.\u001b[39mstep()\n\u001b[1;32m     24\u001b[0m train_loss \u001b[38;5;241m+\u001b[39m\u001b[38;5;241m=\u001b[39m loss\u001b[38;5;241m.\u001b[39mitem()\n",
      "File \u001b[0;32m~/opt/anaconda3/envs/research/lib/python3.9/site-packages/torch/nn/utils/clip_grad.py:59\u001b[0m, in \u001b[0;36mclip_grad_norm_\u001b[0;34m(parameters, max_norm, norm_type, error_if_nonfinite, foreach)\u001b[0m\n\u001b[1;32m     57\u001b[0m             \u001b[38;5;28;01mraise\u001b[39;00m \u001b[38;5;167;01mRuntimeError\u001b[39;00m(\u001b[38;5;124mf\u001b[39m\u001b[38;5;124m'\u001b[39m\u001b[38;5;124mforeach=True was passed, but can\u001b[39m\u001b[38;5;130;01m\\'\u001b[39;00m\u001b[38;5;124mt use the foreach API on \u001b[39m\u001b[38;5;132;01m{\u001b[39;00mdevice\u001b[38;5;241m.\u001b[39mtype\u001b[38;5;132;01m}\u001b[39;00m\u001b[38;5;124m tensors\u001b[39m\u001b[38;5;124m'\u001b[39m)\n\u001b[1;32m     58\u001b[0m         \u001b[38;5;28;01melse\u001b[39;00m:\n\u001b[0;32m---> 59\u001b[0m             norms\u001b[38;5;241m.\u001b[39mextend([torch\u001b[38;5;241m.\u001b[39mlinalg\u001b[38;5;241m.\u001b[39mvector_norm(g, norm_type) \u001b[38;5;28;01mfor\u001b[39;00m g \u001b[38;5;129;01min\u001b[39;00m grads])\n\u001b[1;32m     61\u001b[0m     total_norm \u001b[38;5;241m=\u001b[39m torch\u001b[38;5;241m.\u001b[39mlinalg\u001b[38;5;241m.\u001b[39mvector_norm(torch\u001b[38;5;241m.\u001b[39mstack([norm\u001b[38;5;241m.\u001b[39mto(first_device) \u001b[38;5;28;01mfor\u001b[39;00m norm \u001b[38;5;129;01min\u001b[39;00m norms]), norm_type)\n\u001b[1;32m     63\u001b[0m \u001b[38;5;28;01mif\u001b[39;00m error_if_nonfinite \u001b[38;5;129;01mand\u001b[39;00m torch\u001b[38;5;241m.\u001b[39mlogical_or(total_norm\u001b[38;5;241m.\u001b[39misnan(), total_norm\u001b[38;5;241m.\u001b[39misinf()):\n",
      "File \u001b[0;32m~/opt/anaconda3/envs/research/lib/python3.9/site-packages/torch/nn/utils/clip_grad.py:59\u001b[0m, in \u001b[0;36m<listcomp>\u001b[0;34m(.0)\u001b[0m\n\u001b[1;32m     57\u001b[0m             \u001b[38;5;28;01mraise\u001b[39;00m \u001b[38;5;167;01mRuntimeError\u001b[39;00m(\u001b[38;5;124mf\u001b[39m\u001b[38;5;124m'\u001b[39m\u001b[38;5;124mforeach=True was passed, but can\u001b[39m\u001b[38;5;130;01m\\'\u001b[39;00m\u001b[38;5;124mt use the foreach API on \u001b[39m\u001b[38;5;132;01m{\u001b[39;00mdevice\u001b[38;5;241m.\u001b[39mtype\u001b[38;5;132;01m}\u001b[39;00m\u001b[38;5;124m tensors\u001b[39m\u001b[38;5;124m'\u001b[39m)\n\u001b[1;32m     58\u001b[0m         \u001b[38;5;28;01melse\u001b[39;00m:\n\u001b[0;32m---> 59\u001b[0m             norms\u001b[38;5;241m.\u001b[39mextend([\u001b[43mtorch\u001b[49m\u001b[38;5;241;43m.\u001b[39;49m\u001b[43mlinalg\u001b[49m\u001b[38;5;241;43m.\u001b[39;49m\u001b[43mvector_norm\u001b[49m\u001b[43m(\u001b[49m\u001b[43mg\u001b[49m\u001b[43m,\u001b[49m\u001b[43m \u001b[49m\u001b[43mnorm_type\u001b[49m\u001b[43m)\u001b[49m \u001b[38;5;28;01mfor\u001b[39;00m g \u001b[38;5;129;01min\u001b[39;00m grads])\n\u001b[1;32m     61\u001b[0m     total_norm \u001b[38;5;241m=\u001b[39m torch\u001b[38;5;241m.\u001b[39mlinalg\u001b[38;5;241m.\u001b[39mvector_norm(torch\u001b[38;5;241m.\u001b[39mstack([norm\u001b[38;5;241m.\u001b[39mto(first_device) \u001b[38;5;28;01mfor\u001b[39;00m norm \u001b[38;5;129;01min\u001b[39;00m norms]), norm_type)\n\u001b[1;32m     63\u001b[0m \u001b[38;5;28;01mif\u001b[39;00m error_if_nonfinite \u001b[38;5;129;01mand\u001b[39;00m torch\u001b[38;5;241m.\u001b[39mlogical_or(total_norm\u001b[38;5;241m.\u001b[39misnan(), total_norm\u001b[38;5;241m.\u001b[39misinf()):\n",
      "\u001b[0;31mKeyboardInterrupt\u001b[0m: "
     ]
    }
   ],
   "source": [
    "import matplotlib.pyplot as plt\n",
    "# train the transformer:\n",
    "model = TransformerModel()\n",
    "model.to(device)\n",
    "optimizer = torch.optim.Adam(model.parameters(), lr=0.001)\n",
    "scheduler = torch.optim.lr_scheduler.StepLR(optimizer, 1.0, gamma=0.95)\n",
    "# smooth l1 loss\n",
    "criterion = nn.SmoothL1Loss()\n",
    "plt.ion() # interactive mode\n",
    "def train(model, train_dataset, optimizer, scheduler, criterion, device, batch_size=256, epochs=10):\n",
    "    model.train()\n",
    "    train_loss = 0\n",
    "    for epoch in range(epochs):\n",
    "        for i in range(0, len(train_dataset), batch_size):\n",
    "            data, label = train_dataset[i:i+batch_size]\n",
    "            data = data.to(device)\n",
    "            label = label.to(device)\n",
    "            optimizer.zero_grad()\n",
    "            output = model(data, has_mask=False).squeeze(-1)\n",
    "            loss = criterion(output, label)\n",
    "            loss.backward()\n",
    "            torch.nn.utils.clip_grad_norm_(model.parameters(), 0.5)\n",
    "            optimizer.step()\n",
    "            train_loss += loss.item()\n",
    "            if i % 100 == 0 and i > 0:\n",
    "                cur_loss = train_loss / 100\n",
    "                print(f'Epoch {epoch}, iter {i}, loss {cur_loss}')\n",
    "                train_loss = 0\n",
    "            if i % 1000 ==  0 and i > 0:\n",
    "                # visualize a input and output pair in one batch[0]:\n",
    "                plt.plot(data[0, :, 0].cpu().detach().numpy())\n",
    "                plt.plot(output[0, :].cpu().detach().numpy(), label='prediction')\n",
    "                plt.plot(label[0, :].cpu().detach().numpy(), label='ground truth')\n",
    "                plt.legend()\n",
    "                plt.show()\n",
    "        \n",
    "        scheduler.step()\n",
    "    return model\n",
    "\n",
    "model = train(model, train_dataset, optimizer, scheduler, criterion, device, batch_size=32, epochs=10)\n"
   ]
  },
  {
   "cell_type": "code",
   "execution_count": null,
   "metadata": {},
   "outputs": [],
   "source": []
  }
 ],
 "metadata": {
  "kernelspec": {
   "display_name": "research",
   "language": "python",
   "name": "python3"
  },
  "language_info": {
   "codemirror_mode": {
    "name": "ipython",
    "version": 3
   },
   "file_extension": ".py",
   "mimetype": "text/x-python",
   "name": "python",
   "nbconvert_exporter": "python",
   "pygments_lexer": "ipython3",
   "version": "3.9.18"
  }
 },
 "nbformat": 4,
 "nbformat_minor": 2
}
